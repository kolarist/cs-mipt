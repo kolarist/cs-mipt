{
 "cells": [
  {
   "cell_type": "markdown",
   "id": "549ab458-dbe1-414a-9b60-154b383fab20",
   "metadata": {},
   "source": [
    "## Упражнение №1\n",
    "\n",
    "Напишите функцию, переводящую произвольное выражение в прямую и обратную польские нотации.\n"
   ]
  },
  {
   "cell_type": "code",
   "execution_count": 21,
   "id": "1c198038-5af5-430c-bc2d-dbfb906f33bb",
   "metadata": {},
   "outputs": [],
   "source": [
    "#(2-3)*(12-10)+4/2"
   ]
  },
  {
   "cell_type": "code",
   "execution_count": 19,
   "id": "ac77416f-cf5c-4cb6-a80e-39151e331d5a",
   "metadata": {},
   "outputs": [
    {
     "name": "stdin",
     "output_type": "stream",
     "text": [
      " (2-3)*(12-10)+4/2\n"
     ]
    },
    {
     "name": "stdout",
     "output_type": "stream",
     "text": [
      "+*-23-1210/42\n"
     ]
    }
   ],
   "source": [
    "N = list(map(str, input()))\n",
    "arr, res_arr= [], []\n",
    "str_forward = ''\n",
    "\n",
    "def forward(N):\n",
    "    arr, res_arr= [], []\n",
    "    str_forward = ''\n",
    "    \n",
    "    for i in N[::-1]:\n",
    "        if i.isdigit():\n",
    "            res_arr.append(i)\n",
    "        elif i in ['+', '-', '/', '*']:\n",
    "            while arr and arr[-1] in ['/','*']:\n",
    "                res_arr.append(arr.pop())\n",
    "            arr.append(i)\n",
    "    \n",
    "        elif i ==')':\n",
    "            arr.append(i)\n",
    "        elif i == '(':\n",
    "            while arr[-1] != ')':\n",
    "                res_arr.append(arr.pop())\n",
    "            arr.pop()\n",
    "    \n",
    "    for i in range(len(arr)):\n",
    "        res_arr.append(arr.pop())\n",
    "    \n",
    "    for i in res_arr[::-1]:\n",
    "        str_forward += i\n",
    "        \n",
    "    while arr:\n",
    "        res_arr.append(arr.pop())\n",
    "    return str_forward \n",
    "\n",
    "print(forward(N))\n",
    "\n",
    "#(2-3)*(12-10)+4/2\n",
    "# + * - 23 - 1210 /42"
   ]
  },
  {
   "cell_type": "code",
   "execution_count": 12,
   "id": "2b9f37c4-3fc6-42e4-869f-bbb939604137",
   "metadata": {},
   "outputs": [
    {
     "name": "stdin",
     "output_type": "stream",
     "text": [
      " (2-3)*(12-10)+4/2\n"
     ]
    },
    {
     "name": "stdout",
     "output_type": "stream",
     "text": [
      "23-1210-*42/+\n"
     ]
    }
   ],
   "source": [
    "N = list(map(str, input()))\n",
    "\n",
    "def backward(N):\n",
    "    arr, res_arr = [], []\n",
    "    str_backward = ''\n",
    "    for i in N:\n",
    "        if i.isdigit():\n",
    "            res_arr.append(i)\n",
    "        elif i in ['+', '-', '/', '*']:\n",
    "            while arr and arr[-1] in ['/','*']:\n",
    "                res_arr.append(arr.pop())\n",
    "            arr.append(i)\n",
    "        elif i == '(':\n",
    "            arr.append(i)\n",
    "        elif i == ')':\n",
    "            while arr and arr[-1] != '(':\n",
    "                res_arr.append(arr.pop())\n",
    "            arr.pop()\n",
    "\n",
    "    while arr:\n",
    "        res_arr.append(arr.pop())\n",
    "    \n",
    "    for i in res_arr:\n",
    "        str_backward += i\n",
    "    return str_backward\n",
    "    \n",
    "print(backward(N))\n"
   ]
  },
  {
   "cell_type": "markdown",
   "id": "8a5e4926-f0bb-4e5f-89bb-4cac383199ef",
   "metadata": {},
   "source": [
    "## Упражнение №2\n",
    "Реализовать стековый калькулятор на python. Написать функцию, которая принимает выражение (в виде строки) в обратной польской нотации и считает его значение или пишет, что выражение составлено некорректно (если оно некорректно)."
   ]
  },
  {
   "cell_type": "code",
   "execution_count": 35,
   "id": "a5e4f981-8cf7-479d-b761-28304a5127d0",
   "metadata": {},
   "outputs": [
    {
     "name": "stdin",
     "output_type": "stream",
     "text": [
      " +*-23-1210/42\n"
     ]
    },
    {
     "name": "stdout",
     "output_type": "stream",
     "text": [
      "Выражение не соответствует требованиям.\n"
     ]
    }
   ],
   "source": [
    "class Equation:\n",
    "    def __init__(self):\n",
    "        self.items = []\n",
    "\n",
    "    def add(self, item):\n",
    "        self.items.append(item)\n",
    "\n",
    "    def pop(self):\n",
    "        if len(self.items) == 0:\n",
    "            return \"Выражение введено некорректно. Повторите попытку\"\n",
    "        else:\n",
    "            return self.items.pop()\n",
    "\n",
    "def equ_calc(input_exp):\n",
    "    stack = Equation()\n",
    "    chars = input_exp.split()\n",
    "    res = 0\n",
    "\n",
    "    for symbol in chars:\n",
    "        if symbol.isalnum():\n",
    "            stack.add(symbol)\n",
    "        else:\n",
    "            second = stack.pop()\n",
    "            first = stack.pop()\n",
    "\n",
    "            try:\n",
    "                if symbol == '+':\n",
    "                    res = int(first) + int(second)\n",
    "                elif symbol == '-':\n",
    "                    res = int(first) - int(second)\n",
    "                elif symbol == '*':\n",
    "                    res = int(first) * int(second)\n",
    "                elif symbol == '/':\n",
    "                    res = int(first) / int(second)\n",
    "                elif symbol == '^':\n",
    "                    res = int(first) ** int(second)\n",
    "                else:\n",
    "                    raise ValueError(\"Неизвестный оператор\")\n",
    "                stack.add(res)\n",
    "            except (ValueError, ZeroDivisionError) as e:\n",
    "                return \"Выражение не соответствует требованиям.\"\n",
    "\n",
    "    return stack.pop()\n",
    "\n",
    "input_exp = input()\n",
    "print(equ_calc(input_exp))"
   ]
  }
 ],
 "metadata": {
  "kernelspec": {
   "display_name": "Python 3 (ipykernel)",
   "language": "python",
   "name": "python3"
  },
  "language_info": {
   "codemirror_mode": {
    "name": "ipython",
    "version": 3
   },
   "file_extension": ".py",
   "mimetype": "text/x-python",
   "name": "python",
   "nbconvert_exporter": "python",
   "pygments_lexer": "ipython3",
   "version": "3.12.0"
  }
 },
 "nbformat": 4,
 "nbformat_minor": 5
}

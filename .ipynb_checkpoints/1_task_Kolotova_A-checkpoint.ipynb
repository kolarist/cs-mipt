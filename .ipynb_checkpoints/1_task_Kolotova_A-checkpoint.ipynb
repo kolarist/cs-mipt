{
 "cells": [
  {
   "cell_type": "markdown",
   "id": "0c410f90",
   "metadata": {},
   "source": [
    "# Cеминар 1: введение в Python 3"
   ]
  },
  {
   "cell_type": "markdown",
   "id": "a224c639",
   "metadata": {},
   "source": [
    "Колотова Арина, Б04-301"
   ]
  },
  {
   "cell_type": "markdown",
   "id": "40c4e63d",
   "metadata": {},
   "source": [
    "### Упражнение №1: калькулятор с пользовательским вводом"
   ]
  },
  {
   "cell_type": "markdown",
   "id": "15393a99",
   "metadata": {},
   "source": [
    "Дано два числа a и b. Выведите сумму, разность и произведение чисел (каждое на новой строке)"
   ]
  },
  {
   "cell_type": "code",
   "execution_count": 5,
   "id": "36c65017",
   "metadata": {},
   "outputs": [
    {
     "name": "stdout",
     "output_type": "stream",
     "text": [
      "2\n",
      "3\n",
      "5.0\n",
      "-1.0\n",
      "6.0\n"
     ]
    }
   ],
   "source": [
    "a = float(input())\n",
    "b = float(input())\n",
    "print(a + b, a - b, a * b, sep = '\\n')"
   ]
  },
  {
   "cell_type": "markdown",
   "id": "4b0bba50",
   "metadata": {},
   "source": [
    "### Упражнение №2: последняя цифра"
   ]
  },
  {
   "cell_type": "markdown",
   "id": "e261e208",
   "metadata": {},
   "source": [
    "Дано натуральное число. Выведите его последнюю цифру."
   ]
  },
  {
   "cell_type": "code",
   "execution_count": 13,
   "id": "a9ca2cfc",
   "metadata": {},
   "outputs": [
    {
     "name": "stdout",
     "output_type": "stream",
     "text": [
      "45678\n",
      "5\n"
     ]
    }
   ],
   "source": [
    "length = len(input())\n",
    "var = int(n)\n",
    "for i in range (length):\n",
    "    if var / 10 >= 0:\n",
    "        i+=1\n",
    "print(i)"
   ]
  },
  {
   "cell_type": "markdown",
   "id": "21923248",
   "metadata": {},
   "source": [
    "### Упражнение №3: Среднее геометрическое"
   ]
  },
  {
   "cell_type": "markdown",
   "id": "4fd20969",
   "metadata": {},
   "source": [
    "С клавиатуры вводятся числа через пробел. Выведите их среднее геометрическое."
   ]
  },
  {
   "cell_type": "code",
   "execution_count": 20,
   "id": "0a79b61f",
   "metadata": {},
   "outputs": [
    {
     "name": "stdout",
     "output_type": "stream",
     "text": [
      "6.2 7 5.4 2 5.66\n",
      "4.838892602873183\n"
     ]
    }
   ],
   "source": [
    "l = list(map(float, input().split()))\n",
    "mult = 1\n",
    "\n",
    "for i in range(len(l)):\n",
    "    mult *= l[i]\n",
    "    i+=1\n",
    "\n",
    "print(pow(mult, 1/(len(l))))"
   ]
  },
  {
   "cell_type": "markdown",
   "id": "b186c093",
   "metadata": {},
   "source": [
    "### Упражнение №4: Калькулятор в файл\n",
    "\n",
    "В файле input.txt на первой строке перечислены числа (через пробел), на второй строке написан символ арифметической операции (+, -, \\*), которую необходимо выполнить с ними. Необходимо вывести в файл output.txt результат выполнения арифметической операции."
   ]
  },
  {
   "cell_type": "code",
   "execution_count": 59,
   "id": "1d34d39c",
   "metadata": {},
   "outputs": [
    {
     "name": "stdout",
     "output_type": "stream",
     "text": [
      "+\n",
      "['1', '2', '3', '4']\n",
      "10.0\n"
     ]
    }
   ],
   "source": [
    "f = open('input.txt', 'r')\n",
    "# sample:\n",
    "# >>> for line in f:\n",
    "# >>>     print(line)\n",
    "        \n",
    "# output:\n",
    "# 1 2 3 4\n",
    "# +\n",
    "\n",
    "arr = []\n",
    "for line in f:\n",
    "    arr.append(line.strip())\n",
    "\n",
    "numbers = arr[0].split()\n",
    "summ = 0\n",
    "sign = arr[1]\n",
    "for i in numbers:\n",
    "    if sign == '+':\n",
    "        summ += float(i)\n",
    "    if sign == '-':\n",
    "        summ -= float(i)\n",
    "    if sign == '*':\n",
    "        summ *= float(i)\n",
    "print(sign)\n",
    "print(numbers)\n",
    "print(summ)\n",
    "\n",
    "output = open('output.txt', 'w')\n",
    "output.write(str(summ))\n",
    "\n",
    "#test\n",
    "# test = open('output.txt')\n",
    "# for line_o in test:\n",
    "#     print(line_o)\n",
    "\n",
    "\n",
    "\n",
    "\n"
   ]
  },
  {
   "cell_type": "code",
   "execution_count": null,
   "id": "f5f6ef91",
   "metadata": {},
   "outputs": [],
   "source": [
    "1 2 3\n",
    "+"
   ]
  },
  {
   "cell_type": "markdown",
   "id": "1f77fa07",
   "metadata": {},
   "source": [
    "### Упражнение №5: Системы счисления\n",
    "\n",
    "Даны три числа -- число N, b -- основание системы счисления, в которой оно записано (до десятичной), c -- основание системы счисления, в которую его надо перевести. Вывести запись N в c-ичной системе счисления."
   ]
  },
  {
   "cell_type": "markdown",
   "id": "8d261679",
   "metadata": {},
   "source": [
    "### Упражнение №6: Сложный калькулятор\n",
    "В файле input.txt на первой строке перечислены числа (через пробел), на второй строке написан символ арифметической операции (+, -, \\*), которую необходимо выполнить с ними, в третьей строке написано основание системы счисления, в которой записаны эти числа. Необходимо вывести в файл output.txt результат выполнения арифметической операции в той же системе счисления."
   ]
  },
  {
   "cell_type": "code",
   "execution_count": 18,
   "id": "e7d940a2",
   "metadata": {},
   "outputs": [
    {
     "name": "stdout",
     "output_type": "stream",
     "text": [
      "[[1, 0, 0, 0, 0, 0, 0, 0, 0, 0], [1, 0, 0, 0, 0, 0, 0, 0, 0, 0], [1, 0, 0, 0, 0, 0, 0, 0, 0, 0], [1, 0, 0, 0, 0, 0, 0, 0, 0, 0], [1, 0, 0, 0, 0, 0, 0, 0, 0, 0], [1, 0, 0, 0, 0, 0, 0, 0, 0, 0], [1, 0, 0, 0, 0, 0, 0, 0, 0, 0], [1, 0, 0, 0, 0, 0, 0, 0, 0, 0], [1, 0, 0, 0, 0, 0, 0, 0, 0, 0], [1, 0, 0, 0, 0, 0, 0, 0, 0, 0]]\n"
     ]
    }
   ],
   "source": [
    "A = [[0] * 10]*10 # вроде бы это обычный список списков 10х10 состоящий из 0\n",
    "A[0][0] = 1 # меняем элемент с индексом 0 в списке с индексом 0\n",
    "#A[0] = 1\n",
    "print(A) # печатаем A"
   ]
  }
 ],
 "metadata": {
  "kernelspec": {
   "display_name": "Python 3 (ipykernel)",
   "language": "python",
   "name": "python3"
  },
  "language_info": {
   "codemirror_mode": {
    "name": "ipython",
    "version": 3
   },
   "file_extension": ".py",
   "mimetype": "text/x-python",
   "name": "python",
   "nbconvert_exporter": "python",
   "pygments_lexer": "ipython3",
   "version": "3.11.4"
  }
 },
 "nbformat": 4,
 "nbformat_minor": 5
}

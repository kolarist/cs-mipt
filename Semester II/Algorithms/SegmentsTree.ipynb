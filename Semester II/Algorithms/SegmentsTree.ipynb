{
 "cells": [
  {
   "cell_type": "code",
   "execution_count": 8,
   "id": "a3d5e058-1403-4e6d-8cac-1cc0b2ec6fb2",
   "metadata": {},
   "outputs": [],
   "source": [
    "import numpy as np"
   ]
  },
  {
   "cell_type": "code",
   "execution_count": 9,
   "id": "7a21780c-76b3-4d44-a16b-651740249ad2",
   "metadata": {},
   "outputs": [],
   "source": [
    "class SegmentTree:\n",
    "    def __init__(self, data, func=lambda a, b: a + b, neutral_elements = 0):\n",
    "        self.data = data\n",
    "        self._func = func\n",
    "        self.neutral_elements = neutral_elements\n",
    "        self.build_tree()\n",
    "        \n",
    "    def build_tree(self)->None:\n",
    "        ln = len(self.data)\n",
    "        lb = np.log2(ln)\n",
    "        if lb == int(lb):\n",
    "            self.data = self.data\n",
    "            self.neutral_elements = 0\n",
    "        else:\n",
    "            self.data = self.data\n",
    "            lb = int(lb) + 1\n",
    "            self.neutral_elements = 2**lb - ln\n",
    "            for i in range(ln, 2 ** lb):\n",
    "                self.data.append(0)\n",
    "        self.tree = [0 for i in range(len(self.data) - 1)] + self.data\n",
    "        self._size = len(self.data)\n",
    "        self.calc_tree()\n",
    "        \n",
    "    def calc_tree(self) -> None:\n",
    "        for i in range(len(self.tree) + 1, 2, -2):\n",
    "            s1 = self.tree[i - 2]\n",
    "            s2 = self.tree[i - 3]\n",
    "            sm = s1 + s2\n",
    "            self.tree[(i - 4) // 2] = sm\n",
    "    \n",
    "    def query(self, start, stop):\n",
    "        self.tree.insert(0, 36)\n",
    "        start += self._size\n",
    "        stop += self._size\n",
    "        if start == stop:\n",
    "            return self.tree[stop]\n",
    "        else:\n",
    "            stop += 1\n",
    "            res_left = res_right = 0\n",
    "            while start < stop:\n",
    "                if start % 2 == 1:\n",
    "                    res_left = self._func(res_left, self.tree[start])\n",
    "                    start += 1\n",
    "                if stop % 2 == 1:\n",
    "                    stop -= 1\n",
    "                    res_right = self._func(self.tree[stop], res_right)\n",
    "                start = start // 2\n",
    "                stop = stop // 2\n",
    "            self.tree.pop(0)\n",
    "            return self._func(res_left, res_right)\n",
    "    \n",
    "    def __getitem__(self, idx):\n",
    "        return self.data[idx]\n",
    "    \n",
    "    def update(self, left_border, right_border, value):\n",
    "        if int(self.neutral_elements) == 0:\n",
    "            for i in range(left_border, right_border+1):\n",
    "                self.data[i] += value\n",
    "            self.build_tree()\n",
    "        else:\n",
    "            del self.data[-(int(self.neutral_elements)):]\n",
    "            for i in range(left_border, right_border + 1):\n",
    "                self.data[i] += value\n",
    "            self.build_tree()\n",
    "        "
   ]
  },
  {
   "cell_type": "code",
   "execution_count": 10,
   "id": "4b02d987-0ff3-408e-9d99-0f754c9fa1c9",
   "metadata": {},
   "outputs": [
    {
     "name": "stdout",
     "output_type": "stream",
     "text": [
      "[1, 2, 3, 4, 5, 6, 7, 8]\n"
     ]
    }
   ],
   "source": [
    "tree = SegmentTree([1, 2, 3, 4, 5, 6, 7, 8])\n",
    "print(tree.data)"
   ]
  },
  {
   "cell_type": "code",
   "execution_count": 11,
   "id": "18890e8f-20d7-4d19-85bd-06f48a3a750d",
   "metadata": {},
   "outputs": [
    {
     "name": "stdout",
     "output_type": "stream",
     "text": [
      "36\n"
     ]
    }
   ],
   "source": [
    "print(tree.query(0, 7))\n"
   ]
  },
  {
   "cell_type": "code",
   "execution_count": 12,
   "id": "38c909fb-ec12-411b-9a1e-9751d8856d11",
   "metadata": {},
   "outputs": [
    {
     "name": "stdout",
     "output_type": "stream",
     "text": [
      "[36, 10, 26, 3, 7, 11, 15, 1, 2, 3, 4, 5, 6, 7, 8] [1, 2, 3, 4, 5, 6, 7, 8]\n"
     ]
    }
   ],
   "source": [
    "print(tree.tree, tree.data)"
   ]
  },
  {
   "cell_type": "code",
   "execution_count": 13,
   "id": "303479aa-1b90-44e9-bcf8-a3054ad1a0b3",
   "metadata": {},
   "outputs": [
    {
     "name": "stdout",
     "output_type": "stream",
     "text": [
      "[6, 7, 8, 9, 10, 6, 7, 8] [61, 30, 31, 13, 17, 16, 15, 6, 7, 8, 9, 10, 6, 7, 8]\n"
     ]
    }
   ],
   "source": [
    "tree.update(0,4,5)\n",
    "print(tree.data, tree.tree)"
   ]
  },
  {
   "cell_type": "code",
   "execution_count": null,
   "id": "f7e78cdd-d6c5-401e-9d2f-f75644693482",
   "metadata": {},
   "outputs": [],
   "source": []
  }
 ],
 "metadata": {
  "kernelspec": {
   "display_name": "Python 3 (ipykernel)",
   "language": "python",
   "name": "python3"
  },
  "language_info": {
   "codemirror_mode": {
    "name": "ipython",
    "version": 3
   },
   "file_extension": ".py",
   "mimetype": "text/x-python",
   "name": "python",
   "nbconvert_exporter": "python",
   "pygments_lexer": "ipython3",
   "version": "3.12.0"
  }
 },
 "nbformat": 4,
 "nbformat_minor": 5
}

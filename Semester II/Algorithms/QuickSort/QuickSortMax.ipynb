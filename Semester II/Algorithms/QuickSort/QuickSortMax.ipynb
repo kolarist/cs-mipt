{
 "cells": [
  {
   "cell_type": "code",
   "execution_count": 3,
   "id": "b472560a-c930-4507-a350-5dd74d102d7a",
   "metadata": {},
   "outputs": [],
   "source": [
    "import random"
   ]
  },
  {
   "cell_type": "code",
   "execution_count": 2,
   "id": "94153616-2be0-4b11-8c3a-49372cff0f18",
   "metadata": {},
   "outputs": [],
   "source": [
    "def quicksort(nums):\n",
    "    if len(nums) <= 1:\n",
    "        return nums\n",
    "    else:\n",
    "        q = random.choice(nums)\n",
    "    l_nums = [n for n in nums if n < q]\n",
    "    \n",
    "    e_nums = [q] * nums.count(q)\n",
    "    b_nums = [n for n in nums if n > q]\n",
    "    return quicksort(l_nums) + e_nums + quicksort(b_nums)"
   ]
  }
 ],
 "metadata": {
  "kernelspec": {
   "display_name": "Python 3 (ipykernel)",
   "language": "python",
   "name": "python3"
  },
  "language_info": {
   "codemirror_mode": {
    "name": "ipython",
    "version": 3
   },
   "file_extension": ".py",
   "mimetype": "text/x-python",
   "name": "python",
   "nbconvert_exporter": "python",
   "pygments_lexer": "ipython3",
   "version": "3.12.0"
  }
 },
 "nbformat": 4,
 "nbformat_minor": 5
}

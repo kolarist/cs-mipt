{
 "cells": [
  {
   "cell_type": "code",
   "execution_count": 1,
   "id": "8ed0f9f1-9287-49c1-8ec6-a69c08a101c3",
   "metadata": {},
   "outputs": [],
   "source": [
    "def Dijkstra(graph, v):\n",
    "    d = {}\n",
    "    visited = []\n",
    "    end = []\n",
    "    for key in graph.keys():\n",
    "        d[key] = float('infinity')\n",
    "        \n",
    "    d[v] = 0\n",
    "    visited.append([0, v])\n",
    "    while visited:\n",
    "        visited.sort()\n",
    "        \n",
    "        c = visited.pop(0)\n",
    "        end.append(c[1])\n",
    "        for neigh in graph[c[1]]:\n",
    "            if neigh[0] not in end:\n",
    "                if (d[c[1]] + neigh[1]) < d[neigh[0]]:\n",
    "                    d[neigh[0]] = (d[c[1]] + neigh[1])\n",
    "                visited.append(neigh[::-1])"
   ]
  }
 ],
 "metadata": {
  "kernelspec": {
   "display_name": "Python 3 (ipykernel)",
   "language": "python",
   "name": "python3"
  },
  "language_info": {
   "codemirror_mode": {
    "name": "ipython",
    "version": 3
   },
   "file_extension": ".py",
   "mimetype": "text/x-python",
   "name": "python",
   "nbconvert_exporter": "python",
   "pygments_lexer": "ipython3",
   "version": "3.12.0"
  }
 },
 "nbformat": 4,
 "nbformat_minor": 5
}

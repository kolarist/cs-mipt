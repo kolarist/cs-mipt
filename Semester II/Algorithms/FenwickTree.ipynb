{
 "cells": [
  {
   "cell_type": "code",
   "execution_count": 1,
   "id": "6101645c-f133-4767-887e-17811d5febdc",
   "metadata": {},
   "outputs": [],
   "source": [
    "class FenwickTree:\n",
    "    def __init__(self, data):\n",
    "        self.data = data\n",
    "        self.size = len(self.data)\n",
    "        self.tree = [0] * self.size\n",
    "        self.build_tree()\n",
    "    \n",
    "    def sum(self, index):\n",
    "        result = 0\n",
    "        while index >= 0:\n",
    "            result += self.tree[index]\n",
    "            index = (index & (index + 1)) - 1\n",
    "        return result\n",
    "    \n",
    "    def range_sum(self, left, right):\n",
    "        if left == right:\n",
    "            return self.sum(right)\n",
    "        else:\n",
    "            return self.sum(right) - self.sum(left - 1)\n",
    "    \n",
    "    def build_tree(self):\n",
    "        for i in range(self.size):\n",
    "            delta = self.data[i]\n",
    "            while i < self.size:\n",
    "                self.tree[i] += delta\n",
    "                i |= i + 1\n",
    "        return self.tree\n",
    "    \n",
    "    def add(self, index, delta):\n",
    "        while index <= self.size:\n",
    "            self.tree[index] += delta\n",
    "            index |= index + 1\n",
    "    \n",
    "    def update(self, index, new_value):\n",
    "        delta = new_value - self.data[index]\n",
    "        self.add(index, delta)\n",
    "        self.data[index] = new_value\n"
   ]
  },
  {
   "cell_type": "code",
   "execution_count": 2,
   "id": "aeb40aad-e71a-4eff-9a0a-b93f9bcfcfb7",
   "metadata": {},
   "outputs": [],
   "source": [
    "fenwick_tree = FenwickTree([1, 2, 3, 4, 5, 6, 7, 8])\n"
   ]
  },
  {
   "cell_type": "code",
   "execution_count": 3,
   "id": "7089419b-72e9-49e1-a971-a77593024647",
   "metadata": {},
   "outputs": [
    {
     "name": "stdout",
     "output_type": "stream",
     "text": [
      "[1, 3, 3, 10, 5, 11, 7, 36]\n",
      "[1, 2, 3, 4, 5, 6, 7, 8]\n",
      "36\n",
      "18\n",
      "[1, 3, 3, 10, 10, 16, 7, 41]\n",
      "[1, 2, 3, 4, 10, 6, 7, 8]\n",
      "41\n"
     ]
    }
   ],
   "source": [
    "print(fenwick_tree.tree)\n",
    "print(fenwick_tree.data)"
   ]
  },
  {
   "cell_type": "code",
   "execution_count": 4,
   "id": "1f9a1bd2-998e-4445-8ddf-6e242d3b1368",
   "metadata": {},
   "outputs": [
    {
     "name": "stdout",
     "output_type": "stream",
     "text": [
      "41\n",
      "23\n",
      "[1, 3, 3, 10, 10, 16, 7, 41]\n",
      "[1, 2, 3, 4, 10, 6, 7, 8]\n",
      "41\n"
     ]
    }
   ],
   "source": [
    "print(fenwick_tree.sum(7))\n",
    "print(fenwick_tree.range_sum(2, 5))"
   ]
  },
  {
   "cell_type": "code",
   "execution_count": 5,
   "id": "7c6a7dd1-ba9b-4855-8350-a7a7e1741732",
   "metadata": {},
   "outputs": [
    {
     "name": "stdout",
     "output_type": "stream",
     "text": [
      "[1, 3, 3, 10, 10, 16, 7, 41]\n",
      "[1, 2, 3, 4, 10, 6, 7, 8]\n",
      "41\n"
     ]
    }
   ],
   "source": [
    "fenwick_tree.update(4, 10)\n",
    "print(fenwick_tree.tree)"
   ]
  },
  {
   "cell_type": "code",
   "execution_count": 6,
   "id": "6d659009-7bf7-42a4-86b2-7454c59b078d",
   "metadata": {},
   "outputs": [
    {
     "name": "stdout",
     "output_type": "stream",
     "text": [
      "[1, 2, 3, 4, 10, 6, 7, 8]\n",
      "41\n"
     ]
    }
   ],
   "source": [
    "print(fenwick_tree.data)\n",
    "print(fenwick_tree.sum(7))"
   ]
  },
  {
   "cell_type": "code",
   "execution_count": null,
   "id": "eeea3156-9bf1-4c90-8760-de8793684bbf",
   "metadata": {},
   "outputs": [],
   "source": []
  },
  {
   "cell_type": "code",
   "execution_count": null,
   "id": "c5ed260b-d697-4635-9348-87de68b822fb",
   "metadata": {},
   "outputs": [],
   "source": []
  }
 ],
 "metadata": {
  "kernelspec": {
   "display_name": "Python 3 (ipykernel)",
   "language": "python",
   "name": "python3"
  },
  "language_info": {
   "codemirror_mode": {
    "name": "ipython",
    "version": 3
   },
   "file_extension": ".py",
   "mimetype": "text/x-python",
   "name": "python",
   "nbconvert_exporter": "python",
   "pygments_lexer": "ipython3",
   "version": "3.12.0"
  }
 },
 "nbformat": 4,
 "nbformat_minor": 5
}

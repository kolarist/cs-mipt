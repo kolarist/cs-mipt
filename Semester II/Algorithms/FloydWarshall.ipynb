{
 "cells": [
  {
   "cell_type": "code",
   "execution_count": 1,
   "id": "3b3cac0d-b830-4fea-bf81-a5e5bd900cda",
   "metadata": {},
   "outputs": [],
   "source": [
    "def FW(graph):\n",
    "    V = len(graph)\n",
    "    d = [[[float('infinity')] for i in range(V)] for i in range(V)]\n",
    "    \n",
    "    for i in range(V):\n",
    "        for j in range(V):\n",
    "            if graph[i][j] != 0:\n",
    "                d[i][j][0] = graph[i][j]\n",
    "    \n",
    "    for i in range(V):\n",
    "        for j in range(V):\n",
    "            for k in range(1,V):\n",
    "                d[i][j][k] = min(d[i][j][k-1], (d[i][k][k-1]+d[k][j][k-1]))\n",
    "                \n",
    "    return d\n",
    "    "
   ]
  }
 ],
 "metadata": {
  "kernelspec": {
   "display_name": "Python 3 (ipykernel)",
   "language": "python",
   "name": "python3"
  },
  "language_info": {
   "codemirror_mode": {
    "name": "ipython",
    "version": 3
   },
   "file_extension": ".py",
   "mimetype": "text/x-python",
   "name": "python",
   "nbconvert_exporter": "python",
   "pygments_lexer": "ipython3",
   "version": "3.12.0"
  }
 },
 "nbformat": 4,
 "nbformat_minor": 5
}

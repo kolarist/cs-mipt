{
 "cells": [
  {
   "cell_type": "code",
   "execution_count": 1,
   "id": "c6c3061a-e6a3-4032-8c47-888ad390d6b8",
   "metadata": {},
   "outputs": [],
   "source": [
    "import pylab as p"
   ]
  },
  {
   "cell_type": "code",
   "execution_count": 2,
   "id": "1ad9eabe-8ba5-41c2-91ce-36e999fa1a3a",
   "metadata": {},
   "outputs": [],
   "source": [
    "def read_graph_as_edges():\n",
    "    n = int(input())\n",
    "    graph = [list(map(int, input().split())) for i in range(n)]\n",
    "    return graph"
   ]
  },
  {
   "cell_type": "code",
   "execution_count": 3,
   "id": "430c7dd1-f8bb-4447-8976-3e995fa12bdb",
   "metadata": {},
   "outputs": [],
   "source": [
    "def read_graph_as_neigh_list_w():\n",
    "    edge_list = read_graph_as_edges()\n",
    "    graph_dict = {}  # dict()\n",
    "    vertex_set = set()\n",
    "    for edge in edge_list:\n",
    "        vertex_set.add(edge[0])\n",
    "        vertex_set.add(edge[1])\n",
    "    V_num = len(vertex_set)\n",
    "    # # print(V_num)\n",
    "    for v in vertex_set:\n",
    "        graph_dict[v] = frozenset()\n",
    "    for edge in edge_list:\n",
    "        graph_dict[edge[0]] = graph_dict[edge[0]] | frozenset([(edge[1], edge[2])])\n",
    "    return graph_dict"
   ]
  },
  {
   "cell_type": "code",
   "execution_count": 4,
   "id": "8ae3d9da-d03b-4f1f-9cad-76eb9750e181",
   "metadata": {},
   "outputs": [],
   "source": [
    "def Bellman_Ford(graph, v):\n",
    "    vertices = len(graph)\n",
    "    distance = {vertex: float('inf') for vertex in graph}\n",
    "    distance[v] = 0\n",
    "    for _ in range(vertices - 1):\n",
    "        for vertex in graph:\n",
    "            for neighbor, weight in graph[vertex]:\n",
    "                if distance[vertex] != float('inf') and distance[vertex] + weight < distance[neighbor]:\n",
    "                    distance[neighbor] = distance[vertex] + weight\n",
    "    for vertex in graph:\n",
    "        for neighbor, weight in graph[vertex]:\n",
    "            if distance[vertex] != float('inf') and distance[vertex] + weight < distance[neighbor]:\n",
    "                print(\"Граф сдержит отрицательный цикл\")\n",
    "                return\n",
    "\n",
    "    return distance\n"
   ]
  },
  {
   "cell_type": "code",
   "execution_count": 7,
   "id": "3630b2f6-5a5b-4508-8ce1-f222a889a11d",
   "metadata": {},
   "outputs": [
    {
     "name": "stdin",
     "output_type": "stream",
     "text": [
      " 10\n",
      " 0 1 6\n",
      " 1 2 5\n",
      " 2 1 -2\n",
      " 3 2 7\n",
      " 4 3 9\n",
      " 0 4 7\n",
      " 1 4 -8\n",
      " 4 2 -3\n",
      " 3 0 2\n",
      " 1 3 -4\n"
     ]
    },
    {
     "name": "stdout",
     "output_type": "stream",
     "text": [
      "Граф сдержит отрицательный цикл\n",
      "None\n"
     ]
    }
   ],
   "source": [
    "graph = read_graph_as_neigh_list_w()\n",
    "f = Bellman_Ford(graph,1)\n",
    "print(f)\n"
   ]
  },
  {
   "cell_type": "code",
   "execution_count": null,
   "id": "41511824-a6e4-41ff-867f-2af3955db6b7",
   "metadata": {},
   "outputs": [],
   "source": [
    "'''\n",
    "10\n",
    "0 1 6\n",
    "1 2 5\n",
    "2 1 -2\n",
    "3 2 7\n",
    "4 3 9\n",
    "0 4 7\n",
    "1 4 -8\n",
    "4 2 -3\n",
    "3 0 2\n",
    "1 3 -4\n",
    "'''"
   ]
  },
  {
   "cell_type": "code",
   "execution_count": 8,
   "id": "a7682b6e-dd2e-4674-a027-ad0a8e7cd21f",
   "metadata": {},
   "outputs": [
    {
     "name": "stdin",
     "output_type": "stream",
     "text": [
      " 8\n",
      " 1 2 -1\n",
      " 2 3 2\n",
      " 3 4 -3\n",
      " 4 5 5\n",
      " 1 5 4\n",
      " 2 5 3\n",
      " 2 4 2\n",
      " 4 2 1\n"
     ]
    },
    {
     "name": "stdout",
     "output_type": "stream",
     "text": [
      "{1: 0, 2: -1, 3: 1, 4: -2, 5: 2}\n"
     ]
    }
   ],
   "source": [
    "graph = read_graph_as_neigh_list_w()\n",
    "f = Bellman_Ford(graph,1)\n",
    "print(f)"
   ]
  },
  {
   "cell_type": "code",
   "execution_count": null,
   "id": "bcc8eae9-50b4-4338-8bc8-02461eb0348b",
   "metadata": {},
   "outputs": [],
   "source": [
    "'''\n",
    "8\n",
    "1 2 -1\n",
    "2 3 2\n",
    "3 4 -3\n",
    "4 5 5\n",
    "1 5 4\n",
    "2 5 3\n",
    "2 4 2\n",
    "4 2 1\n",
    "'''"
   ]
  }
 ],
 "metadata": {
  "kernelspec": {
   "display_name": "Python 3 (ipykernel)",
   "language": "python",
   "name": "python3"
  },
  "language_info": {
   "codemirror_mode": {
    "name": "ipython",
    "version": 3
   },
   "file_extension": ".py",
   "mimetype": "text/x-python",
   "name": "python",
   "nbconvert_exporter": "python",
   "pygments_lexer": "ipython3",
   "version": "3.12.0"
  }
 },
 "nbformat": 4,
 "nbformat_minor": 5
}

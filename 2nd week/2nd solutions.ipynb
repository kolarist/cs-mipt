{
 "cells": [
  {
   "cell_type": "code",
   "execution_count": 1,
   "id": "d85401ed",
   "metadata": {},
   "outputs": [
    {
     "name": "stdout",
     "output_type": "stream",
     "text": [
      "13\n"
     ]
    }
   ],
   "source": [
    "with open(\"input.txt\", \"r\") as f:\n",
    "    text = f.read()\n",
    "print(len([i for i in text.split('. ')]))"
   ]
  },
  {
   "cell_type": "code",
   "execution_count": 7,
   "id": "15eff952",
   "metadata": {},
   "outputs": [
    {
     "name": "stdout",
     "output_type": "stream",
     "text": [
      "2\n"
     ]
    }
   ],
   "source": [
    "with open(\"input.txt\", \"r\") as f:\n",
    "    text = f.read()\n",
    "    sents = [i for i in text.split('. ')]\n",
    "    sents2 = [i.split('? ') for i in sents]\n",
    "    sents3 = [i.split('! ') for i in sents]\n",
    "\n",
    "print(len(sents3))"
   ]
  },
  {
   "cell_type": "markdown",
   "id": "7608cdd3",
   "metadata": {},
   "source": [
    "# Задача 2"
   ]
  },
  {
   "cell_type": "markdown",
   "id": "e8081946",
   "metadata": {},
   "source": [
    "Рассмотрим операцию группового обращения строки. Строка разбивается на N групп символов равной длины, после чего в каждой группе порядок символов меняется на обратный. Зная количество групп в строке, необходимо найти ее обращение.\n",
    "\n",
    "Вход. Количество групп G в строке и сама строка. Длина строки кратна G. Строка может содержать только буквы и цифры.\n",
    "\n",
    "Выход. Вывести групповое обращение строки."
   ]
  },
  {
   "cell_type": "markdown",
   "id": "19b08ffd",
   "metadata": {},
   "source": [
    "# Задача 3"
   ]
  },
  {
   "cell_type": "markdown",
   "id": "eacb2482",
   "metadata": {},
   "source": [
    "Обыкновенный палиндром – это строка символов, которая одинаково читается как слева направо, так и справа налево.\n",
    "\n",
    "Строка называется зеркальной, если после замены всех ее символов на зеркальные отображения, она будет читаться с конца так же, как и исходная строка. Зеркальные буквы поданы в таблице ниже. Например, строка \"3AIAE\" является зеркальной. Если строка содержит букву, которая не имеет зеркального отображения, то такая строка не может быть зеркальной."
   ]
  },
  {
   "cell_type": "code",
   "execution_count": 28,
   "id": "5141b01b",
   "metadata": {},
   "outputs": [
    {
     "name": "stdout",
     "output_type": "stream",
     "text": [
      "EA3\n",
      "EA3 is a mirrored string\n"
     ]
    }
   ],
   "source": [
    "word = list(input())\n",
    "ready = ['A', 'H', 'I', 'M', 'O', 'T', 'U', 'V', 'W', 'X', 'Y', '1', '8']\n",
    "prototypes = ['E', 'J', 'S', 'Z']\n",
    "mirrored = ['3', 'L', '2', '5']\n",
    "word_str = ''.join(word)\n",
    "original = 0\n",
    "m_string = 0\n",
    "\n",
    "def smoke_and_mirrors(x, word_str, discript):\n",
    "    counter = 0\n",
    "    for i in range(len(x) // 2):\n",
    "        if x[i] == x[-1-i]:\n",
    "            counter += 1\n",
    "        if counter == len(x) // 2:\n",
    "            print(f'{word_str}' + discript)\n",
    "        else:\n",
    "            print(f'{word_str}'+ ' is not a palindrome')\n",
    "\n",
    "\n",
    "for i in range(len(word)):\n",
    "    if word[i] in prototypes:\n",
    "        word[i] = mirrored[prototypes.index(word[i])]\n",
    "        m_string += 1\n",
    "    if word[i] in ready:\n",
    "        original += 1\n",
    "\n",
    "if original == len(word):\n",
    "    smoke_and_mirrors(word, word_str, ' is a mirrored palindrome')\n",
    "elif m_string != 0:\n",
    "    smoke_and_mirrors(word, word_str, ' is a mirrored string')\n",
    "else:\n",
    "    smoke_and_mirrors(word, word_str, ' is a regular palindrome')"
   ]
  },
  {
   "cell_type": "code",
   "execution_count": 34,
   "id": "6975af63",
   "metadata": {},
   "outputs": [
    {
     "name": "stdout",
     "output_type": "stream",
     "text": [
      "5\n",
      "3 1 2 5 4\n",
      "3\n"
     ]
    }
   ],
   "source": [
    "N = int(input())\n",
    "numbers = list(map(int, input().split()))\n",
    "middle = len(numbers) // 2\n",
    "for i in range(N-1):\n",
    "    if numbers[i] > numbers[i+1]:\n",
    "        a = numbers[i]\n",
    "        numbers[i] = numbers[i+1]\n",
    "        numbers[i+1] = a\n",
    "print(numbers[middle])"
   ]
  },
  {
   "cell_type": "code",
   "execution_count": null,
   "id": "68ec3da1",
   "metadata": {},
   "outputs": [],
   "source": []
  }
 ],
 "metadata": {
  "kernelspec": {
   "display_name": "Python 3 (ipykernel)",
   "language": "python",
   "name": "python3"
  },
  "language_info": {
   "codemirror_mode": {
    "name": "ipython",
    "version": 3
   },
   "file_extension": ".py",
   "mimetype": "text/x-python",
   "name": "python",
   "nbconvert_exporter": "python",
   "pygments_lexer": "ipython3",
   "version": "3.11.4"
  }
 },
 "nbformat": 4,
 "nbformat_minor": 5
}

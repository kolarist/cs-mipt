{
 "cells": [
  {
   "cell_type": "markdown",
   "id": "cc3da7c5",
   "metadata": {},
   "source": [
    "# Cеминар 1: введение в Python 3"
   ]
  },
  {
   "cell_type": "markdown",
   "id": "166157f7",
   "metadata": {},
   "source": [
    "Колотова Арина, Б04-301"
   ]
  },
  {
   "cell_type": "markdown",
   "id": "9e37dc27",
   "metadata": {},
   "source": [
    "### Упражнение №1: калькулятор с пользовательским вводом"
   ]
  },
  {
   "cell_type": "markdown",
   "id": "3b5d79b5",
   "metadata": {},
   "source": [
    "Дано два числа a и b. Выведите сумму, разность и произведение чисел (каждое на новой строке)"
   ]
  },
  {
   "cell_type": "code",
   "execution_count": 5,
   "id": "dc97c273",
   "metadata": {},
   "outputs": [
    {
     "name": "stdout",
     "output_type": "stream",
     "text": [
      "2\n",
      "3\n",
      "5.0\n",
      "-1.0\n",
      "6.0\n"
     ]
    }
   ],
   "source": [
    "a = float(input())\n",
    "b = float(input())\n",
    "print(a + b, a - b, a * b, sep = '\\n')"
   ]
  },
  {
   "cell_type": "markdown",
   "id": "51cd4579",
   "metadata": {},
   "source": [
    "### Упражнение №2: последняя цифра"
   ]
  },
  {
   "cell_type": "markdown",
   "id": "55f04aae",
   "metadata": {},
   "source": [
    "Дано натуральное число. Выведите его последнюю цифру."
   ]
  },
  {
   "cell_type": "code",
   "execution_count": 5,
   "id": "3ed286f1",
   "metadata": {},
   "outputs": [
    {
     "name": "stdout",
     "output_type": "stream",
     "text": [
      "982736728\n",
      "8\n"
     ]
    }
   ],
   "source": [
    "leng = int(input())\n",
    "print(leng%10)"
   ]
  },
  {
   "cell_type": "markdown",
   "id": "5efcaee3",
   "metadata": {},
   "source": [
    "### Упражнение №3: Среднее геометрическое"
   ]
  },
  {
   "cell_type": "markdown",
   "id": "b44c3ede",
   "metadata": {},
   "source": [
    "С клавиатуры вводятся числа через пробел. Выведите их среднее геометрическое."
   ]
  },
  {
   "cell_type": "code",
   "execution_count": 20,
   "id": "659fada3",
   "metadata": {},
   "outputs": [
    {
     "name": "stdout",
     "output_type": "stream",
     "text": [
      "6.2 7 5.4 2 5.66\n",
      "4.838892602873183\n"
     ]
    }
   ],
   "source": [
    "l = list(map(float, input().split()))\n",
    "mult = 1\n",
    "\n",
    "for i in range(len(l)):\n",
    "    mult *= l[i]\n",
    "    i+=1\n",
    "\n",
    "print(pow(mult, 1/(len(l))))"
   ]
  },
  {
   "cell_type": "markdown",
   "id": "04f0784a",
   "metadata": {},
   "source": [
    "### Упражнение №4: Калькулятор в файл\n",
    "\n",
    "В файле input.txt на первой строке перечислены числа (через пробел), на второй строке написан символ арифметической операции (+, -, \\*), которую необходимо выполнить с ними. Необходимо вывести в файл output.txt результат выполнения арифметической операции."
   ]
  },
  {
   "cell_type": "code",
   "execution_count": 201,
   "id": "2b02d0d8",
   "metadata": {},
   "outputs": [
    {
     "name": "stdout",
     "output_type": "stream",
     "text": [
      "-\n",
      "1124\n"
     ]
    }
   ],
   "source": [
    "f = open('input.txt', 'r')\n",
    "# sample:\n",
    "# 1 2 3 4\n",
    "# -\n",
    "\n",
    "arr = []\n",
    "for line in f:\n",
    "    arr.append(line.strip())\n",
    "\n",
    "numbers = list(map(int, arr[0].split()))\n",
    "summ = numbers[0]\n",
    "sign = arr[1]\n",
    "print(sign)\n",
    "\n",
    "for i in range (1, len(numbers)):\n",
    "    if sign == '+':\n",
    "        summ += numbers[i]\n",
    "    elif sign == '-':\n",
    "        summ -= numbers[i]\n",
    "    elif sign == '*':\n",
    "        summ *= numbers[i]\n",
    "    \n",
    "answ = str(summ)\n",
    "output = open('output.txt', 'w')\n",
    "output.write(answ)\n",
    "\n",
    "#test\n",
    "output = open('output2.txt')\n",
    "print(output.read())\n"
   ]
  },
  {
   "cell_type": "markdown",
   "id": "b523a300",
   "metadata": {},
   "source": [
    "### Упражнение №5: Системы счисления\n",
    "\n",
    "Даны три числа -- число N, b -- основание системы счисления, в которой оно записано (до десятичной), c -- основание системы счисления, в которую его надо перевести. Вывести запись N в c-ичной системе счисления."
   ]
  },
  {
   "cell_type": "code",
   "execution_count": 97,
   "id": "6d9cdd01",
   "metadata": {},
   "outputs": [
    {
     "name": "stdout",
     "output_type": "stream",
     "text": [
      "133\n",
      "5\n",
      "9\n",
      "47\n"
     ]
    }
   ],
   "source": [
    "def to_10(number, b):\n",
    "    N_10 = 0\n",
    "    i = 0\n",
    "    while number > 0:\n",
    "        N_10 += (b**i)*(number % 10)\n",
    "        number = number // 10\n",
    "        i+=1\n",
    "    return N_10\n",
    "\n",
    "def to_c(number, c):\n",
    "    string = ''\n",
    "    while number > 0:\n",
    "        string = string + str(int(number % c))\n",
    "        number = int(number // c)\n",
    "    return int(string[::-1])\n",
    "\n",
    "N = int(input())\n",
    "B = int(input())\n",
    "C = int(input())\n",
    "\n",
    "print(to_c(to_10(N, B), C))"
   ]
  },
  {
   "cell_type": "markdown",
   "id": "91c9d4b5",
   "metadata": {},
   "source": [
    "### Упражнение №6: Сложный калькулятор\n",
    "В файле input.txt на первой строке перечислены числа (через пробел), на второй строке написан символ арифметической операции (+, -, \\*), которую необходимо выполнить с ними, в третьей строке написано основание системы счисления, в которой записаны эти числа. Необходимо вывести в файл output.txt результат выполнения арифметической операции в той же системе счисления."
   ]
  },
  {
   "cell_type": "code",
   "execution_count": 181,
   "id": "cc7902f7",
   "metadata": {},
   "outputs": [
    {
     "name": "stdout",
     "output_type": "stream",
     "text": [
      "1124\n"
     ]
    }
   ],
   "source": [
    "def to_10(number, b):\n",
    "    N_10 = 0\n",
    "    i = 0\n",
    "    while number > 0:\n",
    "        N_10 += (b**i)*(number % 10)\n",
    "        number = number // 10\n",
    "        i+=1\n",
    "    return N_10\n",
    "\n",
    "def to_c(number, c):\n",
    "    string = ''\n",
    "    while number > 0:\n",
    "        string = string + str(int(number % c))\n",
    "        number = int(number // c)\n",
    "    return int(string[::-1])\n",
    "\n",
    "\n",
    "input2 = open('input2.txt', 'r')\n",
    "arr = []\n",
    "\n",
    "# data sample (input2):\n",
    "# 133 441\n",
    "# +\n",
    "# 5\n",
    "\n",
    "for line in input2:\n",
    "    arr.append(line.strip())\n",
    "\n",
    "numbers = list(map(int, arr[0].split()))\n",
    "sign = arr[1]\n",
    "base = int(arr[2])\n",
    "\n",
    "numbers_10 = []\n",
    "\n",
    "for i in numbers:\n",
    "    n_10 = to_10(i, base)\n",
    "    numbers_10.append(n_10)\n",
    "\n",
    "\n",
    "summ = numbers_10[0]\n",
    "\n",
    "for i in range (1, len(numbers_10)):\n",
    "    if sign == '+':\n",
    "        summ += numbers_10[i]\n",
    "    elif sign == '-':\n",
    "        summ -= numbers_10[i]\n",
    "    elif sign == '*':\n",
    "        summ *= numbers_10[i]\n",
    "\n",
    "if summ < 0:\n",
    "    k = '-'\n",
    "else:\n",
    "    k = ''\n",
    "    \n",
    "answr = k + str(to_c(abs(summ), base))\n",
    "\n",
    "output2 = open('output2.txt', 'w')\n",
    "output2.write(answr)\n",
    "\n",
    "# test\n",
    "test = open('output2.txt')\n",
    "print(test.read())\n"
   ]
  }
 ],
 "metadata": {
  "kernelspec": {
   "display_name": "Python 3 (ipykernel)",
   "language": "python",
   "name": "python3"
  },
  "language_info": {
   "codemirror_mode": {
    "name": "ipython",
    "version": 3
   },
   "file_extension": ".py",
   "mimetype": "text/x-python",
   "name": "python",
   "nbconvert_exporter": "python",
   "pygments_lexer": "ipython3",
   "version": "3.11.4"
  }
 },
 "nbformat": 4,
 "nbformat_minor": 5
}

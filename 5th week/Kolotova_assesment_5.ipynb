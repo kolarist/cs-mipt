{
 "cells": [
  {
   "cell_type": "markdown",
   "id": "2887f7e1",
   "metadata": {},
   "source": [
    "# Семинар 5. Динамическое программирование"
   ]
  },
  {
   "cell_type": "markdown",
   "id": "06e451a1",
   "metadata": {},
   "source": [
    "Verifying PEP8 in iPython notebook code:"
   ]
  },
  {
   "cell_type": "code",
   "execution_count": 1,
   "id": "e540729e",
   "metadata": {},
   "outputs": [],
   "source": [
    "%load_ext pycodestyle_magic"
   ]
  },
  {
   "cell_type": "code",
   "execution_count": 2,
   "id": "54fdd5ed",
   "metadata": {},
   "outputs": [],
   "source": [
    "%pycodestyle_on"
   ]
  },
  {
   "cell_type": "markdown",
   "id": "2f6814f0",
   "metadata": {},
   "source": [
    "1) Наибольшее число\n",
    " \n",
    "Задан массив неотрицательных целых чисел. Расположите их так, чтобы образовалось наибольшее число.\n",
    "\n",
    "Например, из массива чисел [3, 30, 34, 5, 9] наибольшее можно получить число 9534330.\n",
    "\n",
    "Примечание: Результат может быть очень большим, поэтому вернуть следует строку, а не целое число."
   ]
  },
  {
   "cell_type": "code",
   "execution_count": 13,
   "id": "4ee51e1e",
   "metadata": {},
   "outputs": [
    {
     "name": "stdout",
     "output_type": "stream",
     "text": [
      "3 30 34 5 9\n",
      "9534330\n"
     ]
    }
   ],
   "source": [
    "subsequence = list(map(int, input().split()))\n",
    "val_signs = len(str(max(subsequence)))\n",
    "\n",
    "subsequence = [str(i) for i in subsequence]\n",
    "subsequence = sorted(subsequence, reverse=True)\n",
    "array = [[0] * 2 for i in range(len(subsequence))]\n",
    "\n",
    "for i in range(len(subsequence)):\n",
    "    if len(subsequence[i]) < val_signs:\n",
    "        delta = val_signs - len(subsequence[i])\n",
    "        number = subsequence[i] + subsequence[i][-1] * delta\n",
    "        array[i][0] = int(number)\n",
    "        array[i][1] = subsequence[i]\n",
    "    else:\n",
    "        array[i][0] = int(subsequence[i])\n",
    "        array[i][1] = subsequence[i]\n",
    "\n",
    "array = sorted(array, reverse=True)\n",
    "final_numb = ''\n",
    "\n",
    "for i in range(len(subsequence)):\n",
    "    final_numb += array[i][1]\n",
    "\n",
    "print(final_numb)"
   ]
  }
 ],
 "metadata": {
  "kernelspec": {
   "display_name": "Python 3 (ipykernel)",
   "language": "python",
   "name": "python3"
  },
  "language_info": {
   "codemirror_mode": {
    "name": "ipython",
    "version": 3
   },
   "file_extension": ".py",
   "mimetype": "text/x-python",
   "name": "python",
   "nbconvert_exporter": "python",
   "pygments_lexer": "ipython3",
   "version": "3.11.4"
  }
 },
 "nbformat": 4,
 "nbformat_minor": 5
}

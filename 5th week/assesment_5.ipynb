{
 "cells": [
  {
   "cell_type": "code",
   "execution_count": 1,
   "metadata": {
    "scrolled": true
   },
   "outputs": [
    {
     "name": "stdout",
     "output_type": "stream",
     "text": [
      "Requirement already satisfied: pycodestyle_magic in /opt/anaconda3/lib/python3.7/site-packages (0.5)\n",
      "Note: you may need to restart the kernel to use updated packages.\n"
     ]
    }
   ],
   "source": [
    "pip install pycodestyle_magic"
   ]
  },
  {
   "cell_type": "code",
   "execution_count": 2,
   "metadata": {},
   "outputs": [],
   "source": [
    "%load_ext pycodestyle_magic"
   ]
  },
  {
   "cell_type": "code",
   "execution_count": 3,
   "metadata": {},
   "outputs": [],
   "source": [
    "%pycodestyle_on"
   ]
  },
  {
   "cell_type": "markdown",
   "metadata": {},
   "source": [
    "Зачада 1: Наибольшее число\n",
    "\n",
    "Задан массив неотрицательных целых чисел. Расположите их так, чтобы образовалось наибольшее число.\n",
    "Например, из массива чисел [3, 30, 34, 5, 9] наибольшее можно получить число 9534330.\n",
    "Примечание: Результат может быть очень большим, поэтому вернуть следует строку, а не целое число."
   ]
  },
  {
   "cell_type": "code",
   "execution_count": 2,
   "metadata": {},
   "outputs": [
    {
     "name": "stdout",
     "output_type": "stream",
     "text": [
      "3 30 34 5 9\n",
      "9534330\n"
     ]
    }
   ],
   "source": [
    "subsequence = list(map(int, input().split()))\n",
    "val_signs = len(str(max(subsequence)))\n",
    "\n",
    "subsequence = [str(i) for i in subsequence]\n",
    "subsequence = sorted(subsequence, reverse=True)\n",
    "array = [[0] * 2 for i in range(len(subsequence))]\n",
    "\n",
    "for i in range(len(subsequence)):\n",
    "    if len(subsequence[i]) < val_signs:\n",
    "        delta = val_signs - len(subsequence[i])\n",
    "        number = subsequence[i] + subsequence[i][-1] * delta\n",
    "        array[i][0] = int(number)\n",
    "        array[i][1] = subsequence[i]\n",
    "    else:\n",
    "        array[i][0] = int(subsequence[i])\n",
    "        array[i][1] = subsequence[i]\n",
    "\n",
    "array = sorted(array, reverse=True)\n",
    "final_numb = ''\n",
    "\n",
    "for i in range(len(subsequence)):\n",
    "    final_numb += array[i][1]\n",
    "\n",
    "print(final_numb)"
   ]
  },
  {
   "cell_type": "markdown",
   "metadata": {},
   "source": [
    "Задача 2: Ограбление домов\n",
    " \n",
    "Вы – профессионал своего дела и планируете ограбить ряд домов вдоль улицы. В каждом доме спрятана определенная сумма денег. Единственное, что мешает Вам грабить – так это то, что соседние дома связаны системой безопасности: будет совершено автоматическое обращение в полицию, если два соседние дома были ограблены в один и тот же вечер. Зная количество денег в каждом доме (задан списком неотрицательных целых чисел), определить максимальную сумму, которую Вы можете ограбить сегодня вечером без обращения в полицию."
   ]
  },
  {
   "cell_type": "code",
   "execution_count": 37,
   "metadata": {
    "scrolled": true
   },
   "outputs": [
    {
     "name": "stdout",
     "output_type": "stream",
     "text": [
      "12\n",
      "12\n"
     ]
    }
   ],
   "source": [
    "value = list(map(int, input().split()))\n",
    "n = len(value)\n",
    "\n",
    "money = [0] * n\n",
    "money[0] = value[0]\n",
    "if len(value) > 1:\n",
    "    money[1] = value[1]\n",
    "\n",
    "\n",
    "for i in range(2, n):\n",
    "    max_do = []\n",
    "    for j in range(i - 1):\n",
    "        max_do.append(money[j])\n",
    "    money[i] = max(max_do) + value[i]\n",
    "\n",
    "print(max(money))"
   ]
  },
  {
   "cell_type": "markdown",
   "metadata": {},
   "source": [
    "Задача 3: Строки Фибоначчи"
   ]
  },
  {
   "cell_type": "code",
   "execution_count": 60,
   "metadata": {
    "scrolled": true
   },
   "outputs": [
    {
     "name": "stdout",
     "output_type": "stream",
     "text": [
      "5\n",
      "2 4\n",
      "5 2\n",
      "4 2\n",
      "4 2\n",
      "3 2\n",
      "[5, 2]\n"
     ]
    }
   ],
   "source": [
    "def fibb(n):\n",
    "    if n == 0:\n",
    "        return 1\n",
    "    if n == 1:\n",
    "        return 1\n",
    "    s2 = fibb(n - 1)\n",
    "    s1 = fibb(n - 2)\n",
    "    return(s1 + s2)\n",
    "\n",
    "data_base = {}\n",
    "def symbol(r, k):\n",
    "    data_base = {}\n",
    "    dlina = fibb(r)\n",
    "    uk_dlina = dlina - k + 1\n",
    "    nom_f = 0\n",
    "    while uk_dlina > fibb(nom_f):\n",
    "        nom_f += 1\n",
    "    if r == 0:\n",
    "        F = ['a']\n",
    "        return 0, F[0], F[0][k - 1]\n",
    "    elif r == 1:\n",
    "        F = ['b']\n",
    "        return 1, F[0], F[0][k - 1]\n",
    "    F = [0] * (nom_f + 1)\n",
    "    F[0] = 'a'\n",
    "    F[1] = 'b'\n",
    "    for i in range(2, nom_f + 1):\n",
    "        F[i] = F[i - 2] + F[i - 1]\n",
    "        data_base[nom_f] = F[i]\n",
    "    \n",
    "    return nom_f, F[-1], F[-1][-uk_dlina]\n",
    "    \n",
    "\n",
    "s = int(input())\n",
    "data_base = {}\n",
    "var = []\n",
    "for i in range(s):\n",
    "    x = list(map(int, input().split()))\n",
    "    var.append(x)\n",
    "d = max(var)\n",
    "base = symbol"
   ]
  },
  {
   "cell_type": "markdown",
   "metadata": {},
   "source": [
    "Симметрия"
   ]
  },
  {
   "cell_type": "code",
   "execution_count": 35,
   "metadata": {},
   "outputs": [
    {
     "name": "stdout",
     "output_type": "stream",
     "text": [
      "11 7\n",
      "5\n"
     ]
    }
   ],
   "source": [
    "n, m = map(int, input().split())\n",
    "power = 0\n",
    "cows = 0\n",
    "\n",
    "while (n % 2 == 1 and m % 2 == 1) and (n > 0 and m > 0):\n",
    "    cows += 4 ** power\n",
    "    n = n // 2\n",
    "    m = m // 2\n",
    "    power += 1\n",
    "\n",
    "print(cows)\n"
   ]
  },
  {
   "cell_type": "markdown",
   "metadata": {},
   "source": [
    "Мороженое"
   ]
  },
  {
   "cell_type": "code",
   "execution_count": 44,
   "metadata": {},
   "outputs": [
    {
     "name": "stdout",
     "output_type": "stream",
     "text": [
      "93\n"
     ]
    }
   ],
   "source": [
    "import numpy as np\n",
    "\n",
    "a = np.array([[1, 0],\n",
    "             [89, 3]])\n",
    "\n",
    "print(np.sum(a))\n",
    "A = [[1, 0], [2, 3]]\n"
   ]
  },
  {
   "cell_type": "code",
   "execution_count": 86,
   "metadata": {
    "scrolled": true
   },
   "outputs": [
    {
     "name": "stdout",
     "output_type": "stream",
     "text": [
      "10 2\n",
      "10 1\n",
      "10 5\n",
      "{(1, 10), (5, 10)}\n",
      "[1, 2, 10]\n",
      "[1, 3, 10]\n",
      "[1, 4, 10]\n",
      "[1, 5, 10]\n",
      "[1, 6, 10]\n",
      "[1, 7, 10]\n",
      "[1, 8, 10]\n",
      "[1, 9, 10]\n",
      "[1, 5, 10]\n",
      "[2, 5, 10]\n",
      "[3, 5, 10]\n",
      "[4, 5, 10]\n",
      "[5, 6, 10]\n",
      "[5, 7, 10]\n",
      "[5, 8, 10]\n",
      "[5, 9, 10]\n",
      "15\n"
     ]
    },
    {
     "data": {
      "text/plain": [
       "'\\nDouble = []\\nfor i in range(n):\\n    for j in range(i, n):\\n        s1 = str(i + 1)\\n        s2 = str(j + 1)\\n        m = s1 + s2\\n        if i != j:\\n            if m not in forb:\\n                Double.append(m)\\notv = set()\\nfor i in range(len(Double)):\\n    x = Double[i][0]\\n    y = Double[i][1]\\n    for j in range(n):\\n        z = str(j + 1)\\n        if z != x and z != y:\\n            vsp = [x, y, z]\\n            vsp.sort()\\n            f1 = vsp[0] + vsp[1]\\n            f2 = vsp[0] + vsp[2]\\n            f3 = vsp[1] + vsp[2]\\n            if f1 not in forb:\\n                if f2 not in forb:\\n                    if f3 not in forb:\\n                        comb = vsp[0] + vsp[1] + vsp[2]\\n                        otv.add(comb)\\nprint(len(otv))\\n'"
      ]
     },
     "execution_count": 86,
     "metadata": {},
     "output_type": "execute_result"
    }
   ],
   "source": [
    "import math \n",
    "\n",
    "\n",
    "n, k = map(int, input().split())\n",
    "c = math.factorial(n) / (math.factorial(n - 3) * math.factorial(3))\n",
    "\n",
    "forb = set()\n",
    "for i in range(k):\n",
    "    X = list(map(int, input().split()))\n",
    "    X.sort()\n",
    "    forb.add((X[0], X[1]))\n",
    "print(forb)\n",
    "\n",
    "otv = set()\n",
    "for i in forb:\n",
    "    x1 = int(i[0])\n",
    "    x2 = int(i[1])\n",
    "    for j in range(1, n + 1):\n",
    "        if j != x1 and j != x2:\n",
    "            cash = [j, x1, x2]\n",
    "            cash.sort()\n",
    "            print(cash)\n",
    "            otv.add((cash[0], cash[1], cash[2]))\n",
    "print(len(otv))\n",
    "            \n",
    "    "
   ]
  },
  {
   "cell_type": "code",
   "execution_count": null,
   "metadata": {},
   "outputs": [],
   "source": []
  },
  {
   "cell_type": "code",
   "execution_count": 64,
   "metadata": {},
   "outputs": [
    {
     "name": "stdout",
     "output_type": "stream",
     "text": [
      "123 123\n",
      "0\n"
     ]
    }
   ],
   "source": [
    "a, b = map(int, input().split())\n",
    "x = 0\n",
    "while ((a + x) % b != 0) or ((b + x) % a != 0):\n",
    "    x += 1\n",
    "print(x)"
   ]
  },
  {
   "cell_type": "code",
   "execution_count": 93,
   "metadata": {},
   "outputs": [
    {
     "name": "stdout",
     "output_type": "stream",
     "text": [
      "4\n",
      "19 15 15 15\n",
      "0\n"
     ]
    }
   ],
   "source": [
    "n = int(input())\n",
    "values = list(map(int, input().split()))\n",
    "act = [0] * n\n",
    "m = values[-1]\n",
    "\n",
    "for i in range(n - 2, -1, -1):\n",
    "    if values[i] < values[i + 1]:\n",
    "        act[i] = 1\n",
    "    elif values[i] >= values[i + 1]:\n",
    "        if values[i] >= m:\n",
    "            m = values[i]\n",
    "        else:\n",
    "            act[i] = 1\n",
    "st = 0\n",
    "mon = 0\n",
    "pr = 0\n",
    "for i in range(n):\n",
    "    if act[i] == 1:\n",
    "        st += 1\n",
    "        mon += values[i]\n",
    "    elif act[i] == 0:\n",
    "        pr += st * values[i] - mon\n",
    "        st = 0\n",
    "        mon = 0\n",
    "print(pr)"
   ]
  },
  {
   "cell_type": "code",
   "execution_count": null,
   "metadata": {},
   "outputs": [],
   "source": []
  }
 ],
 "metadata": {
  "kernelspec": {
   "display_name": "Python 3 (ipykernel)",
   "language": "python",
   "name": "python3"
  },
  "language_info": {
   "codemirror_mode": {
    "name": "ipython",
    "version": 3
   },
   "file_extension": ".py",
   "mimetype": "text/x-python",
   "name": "python",
   "nbconvert_exporter": "python",
   "pygments_lexer": "ipython3",
   "version": "3.11.4"
  }
 },
 "nbformat": 4,
 "nbformat_minor": 4
}
